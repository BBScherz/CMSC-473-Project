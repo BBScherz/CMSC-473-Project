{
 "cells": [
  {
   "cell_type": "code",
   "execution_count": 50,
   "metadata": {},
   "outputs": [],
   "source": [
    "import re\n",
    "import spacy\n",
    "import csv\n",
    "import numpy as np\n",
    "from sklearn.linear_model import LogisticRegression\n",
    "\n",
    "adjectives = []\n",
    "\n",
    "maxent = LogisticRegression(solver=\"sag\")"
   ]
  },
  {
   "cell_type": "code",
   "execution_count": 51,
   "metadata": {},
   "outputs": [
    {
     "name": "stdout",
     "output_type": "stream",
     "text": [
      "Total Unique Adjectives 18729\n"
     ]
    }
   ],
   "source": [
    "#Load in adjectives\n",
    "def loadAdj():\n",
    "\n",
    "    with open(\"adjectiveList.txt\", \"r\", encoding=\"utf-8\") as fs:\n",
    "\n",
    "        for line in fs:\n",
    "\n",
    "            cur = line.split(\",\")\n",
    "            for adj in cur:\n",
    "\n",
    "                if(adj not in adjectives):\n",
    "                    adjectives.append(adj)  \n",
    "\n",
    "    print(\"Total Unique Adjectives\",len(adjectives))\n",
    "\n",
    "loadAdj()"
   ]
  },
  {
   "cell_type": "code",
   "execution_count": 52,
   "metadata": {},
   "outputs": [],
   "source": [
    "#Feature Defenitions\n",
    "def review_len(rvw):\n",
    "\n",
    "    sen = re.split(\" \", rvw)\n",
    "    return len(sen)\n",
    "\n",
    "def adj_count(rvw):\n",
    "\n",
    "    adjs = 0\n",
    "    adjList = []\n",
    "    eng = spacy.load(\"en_core_web_sm\")\n",
    "\n",
    "    sens = re.split(\" \", rvw)\n",
    "    for word in sens:\n",
    "\n",
    "        if(word in adjectives):\n",
    "            spacyWord = eng(word)\n",
    "            # if(spacyWord[0].pos_ == \"ADJ\"):\n",
    "            adjList.append(word)\n",
    "            adjs += 1\n",
    "\n",
    "    return adjs, adjList"
   ]
  },
  {
   "cell_type": "code",
   "execution_count": 53,
   "metadata": {},
   "outputs": [
    {
     "name": "stdout",
     "output_type": "stream",
     "text": [
      "300000  reviews loaded\n"
     ]
    }
   ],
   "source": [
    "rvws = []\n",
    "labels = []\n",
    "\n",
    "#Load in reviews and labels\n",
    "with open(\"../review.csv\", \"r\", encoding=\"utf-8\") as csv_file:\n",
    "    csv_reader = csv.reader(csv_file)\n",
    "    line = 0\n",
    "\n",
    "    for row in csv_reader:\n",
    "        if(line == 0):\n",
    "            line += 1\n",
    "        else:\n",
    "            rvws.append(row[0])\n",
    "            labels.append(row[1])\n",
    "            line += 1\n",
    "\n",
    "    print(line - 1, \" reviews loaded\")\n"
   ]
  },
  {
   "cell_type": "code",
   "execution_count": 69,
   "metadata": {},
   "outputs": [
    {
     "data": {
      "text/plain": [
       "LogisticRegression(solver='sag')"
      ]
     },
     "execution_count": 69,
     "metadata": {},
     "output_type": "execute_result"
    }
   ],
   "source": [
    "train_weights = []\n",
    "train_rvws = rvws[:50000]\n",
    "train_labels = labels[:50000]\n",
    "\n",
    "#Generate weights\n",
    "for r in train_rvws:\n",
    "\n",
    "    temp = []\n",
    "    ads, adlist = adj_count(r)\n",
    "    l = review_len(r)\n",
    "\n",
    "    adj_tuple = tuple(adlist)\n",
    "    temp.append(hash(adj_tuple))\n",
    "    temp.append(ads)\n",
    "    temp.append(l)\n",
    "\n",
    "    train_weights.append(np.array(temp))\n",
    "\n",
    "\n",
    "maxent.fit(np.array(train_weights), np.array(train_labels))\n",
    "print(\"MaxEnt model trained\")"
   ]
  },
  {
   "cell_type": "code",
   "execution_count": null,
   "metadata": {},
   "outputs": [],
   "source": [
    "dev_weights = []\n",
    "dev_eval_labels = labels[50000:70000]\n",
    "dev_rvws = rvws[50000:70000]\n",
    "\n",
    "for r in dev_rvws:\n",
    "\n",
    "    temp = []\n",
    "    ads, adlist = adj_count(r)\n",
    "    l = review_len(r)\n",
    "\n",
    "    adj_tuple = tuple(adlist)\n",
    "    temp.append(hash(adj_tuple))\n",
    "    temp.append(ads)\n",
    "    temp.append(l)\n",
    "\n",
    "    dev_weights.append(np.array(temp))\n",
    "\n",
    "\n",
    "predictions = maxent.predict(dev_weights)\n",
    "\n",
    "P = maxent.precision_score(y_true=dev_eval_labels, y_pred=predictions, average=\"micro\")\n",
    "fp = '{0:.4g}'.format(P)\n",
    "R = maxent.recall_score(y_true=dev_eval_labels, y_pred=predictions, average=\"micro\")\n",
    "fr = '{0:.4g}'.format(R)\n",
    "F1 = maxent.f1_score(y_true=dev_eval_labels, y_pred=predictions, average=\"micro\")\n",
    "ff1 = '{0:.4g}'.format(F1)\n",
    "print(\"Dev set evaluation:\")\n",
    "print(\"Micro Scale: \\nPrecision = \", fp, \" | Recall = \", fr, \" | F1-Score = \", ff1)"
   ]
  }
 ],
 "metadata": {
  "interpreter": {
   "hash": "6f7c4d44365b28014734406e4d617c1e1f76ea196def854c7b951a230f6e24f1"
  },
  "kernelspec": {
   "display_name": "Python 3.9.7 64-bit",
   "language": "python",
   "name": "python3"
  },
  "language_info": {
   "codemirror_mode": {
    "name": "ipython",
    "version": 3
   },
   "file_extension": ".py",
   "mimetype": "text/x-python",
   "name": "python",
   "nbconvert_exporter": "python",
   "pygments_lexer": "ipython3",
   "version": "3.9.7"
  },
  "orig_nbformat": 4
 },
 "nbformat": 4,
 "nbformat_minor": 2
}
