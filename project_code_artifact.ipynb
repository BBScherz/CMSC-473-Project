{
 "cells": [
  {
   "cell_type": "markdown",
   "id": "1a9a581e",
   "metadata": {},
   "source": [
    "# Course Project- Coding Artifact"
   ]
  },
  {
   "cell_type": "markdown",
   "id": "d2cf86ec",
   "metadata": {},
   "source": [
    "## Data Preprocessing\n",
    "The following section contains our analysis of the dataset we are using for this project. The dataset we are using is TripAdvisor Hotel Reviews found on Kaggle.com."
   ]
  },
  {
   "cell_type": "code",
   "execution_count": 31,
   "id": "15dc1d5f",
   "metadata": {},
   "outputs": [],
   "source": [
    "import pandas as pd\n",
    "import matplotlib.pyplot as plt\n",
    "from sklearn.model_selection import train_test_split"
   ]
  },
  {
   "cell_type": "code",
   "execution_count": 13,
   "id": "750a413a",
   "metadata": {},
   "outputs": [
    {
     "name": "stdout",
     "output_type": "stream",
     "text": [
      "(20491, 2)\n"
     ]
    },
    {
     "data": {
      "text/html": [
       "<div>\n",
       "<style scoped>\n",
       "    .dataframe tbody tr th:only-of-type {\n",
       "        vertical-align: middle;\n",
       "    }\n",
       "\n",
       "    .dataframe tbody tr th {\n",
       "        vertical-align: top;\n",
       "    }\n",
       "\n",
       "    .dataframe thead th {\n",
       "        text-align: right;\n",
       "    }\n",
       "</style>\n",
       "<table border=\"1\" class=\"dataframe\">\n",
       "  <thead>\n",
       "    <tr style=\"text-align: right;\">\n",
       "      <th></th>\n",
       "      <th>Review</th>\n",
       "      <th>Rating</th>\n",
       "    </tr>\n",
       "  </thead>\n",
       "  <tbody>\n",
       "    <tr>\n",
       "      <th>0</th>\n",
       "      <td>nice hotel expensive parking got good deal sta...</td>\n",
       "      <td>4</td>\n",
       "    </tr>\n",
       "    <tr>\n",
       "      <th>1</th>\n",
       "      <td>ok nothing special charge diamond member hilto...</td>\n",
       "      <td>2</td>\n",
       "    </tr>\n",
       "    <tr>\n",
       "      <th>2</th>\n",
       "      <td>nice rooms not 4* experience hotel monaco seat...</td>\n",
       "      <td>3</td>\n",
       "    </tr>\n",
       "    <tr>\n",
       "      <th>3</th>\n",
       "      <td>unique, great stay, wonderful time hotel monac...</td>\n",
       "      <td>5</td>\n",
       "    </tr>\n",
       "    <tr>\n",
       "      <th>4</th>\n",
       "      <td>great stay great stay, went seahawk game aweso...</td>\n",
       "      <td>5</td>\n",
       "    </tr>\n",
       "  </tbody>\n",
       "</table>\n",
       "</div>"
      ],
      "text/plain": [
       "                                              Review  Rating\n",
       "0  nice hotel expensive parking got good deal sta...       4\n",
       "1  ok nothing special charge diamond member hilto...       2\n",
       "2  nice rooms not 4* experience hotel monaco seat...       3\n",
       "3  unique, great stay, wonderful time hotel monac...       5\n",
       "4  great stay great stay, went seahawk game aweso...       5"
      ]
     },
     "execution_count": 13,
     "metadata": {},
     "output_type": "execute_result"
    }
   ],
   "source": [
    "# Load the data\n",
    "data = pd.read_csv(\"tripadvisor_hotel_reviews.csv\")\n",
    "\n",
    "# Print data shape\n",
    "print(data.shape)\n",
    "\n",
    "# Show the first five rows\n",
    "data.head(5)"
   ]
  },
  {
   "cell_type": "code",
   "execution_count": 52,
   "id": "6189a2ef",
   "metadata": {},
   "outputs": [
    {
     "name": "stdout",
     "output_type": "stream",
     "text": [
      "<class 'pandas.core.frame.DataFrame'>\n",
      "RangeIndex: 20491 entries, 0 to 20490\n",
      "Data columns (total 2 columns):\n",
      " #   Column  Non-Null Count  Dtype \n",
      "---  ------  --------------  ----- \n",
      " 0   Review  20491 non-null  object\n",
      " 1   Rating  20491 non-null  int64 \n",
      "dtypes: int64(1), object(1)\n",
      "memory usage: 320.3+ KB\n"
     ]
    },
    {
     "data": {
      "text/html": [
       "<div>\n",
       "<style scoped>\n",
       "    .dataframe tbody tr th:only-of-type {\n",
       "        vertical-align: middle;\n",
       "    }\n",
       "\n",
       "    .dataframe tbody tr th {\n",
       "        vertical-align: top;\n",
       "    }\n",
       "\n",
       "    .dataframe thead th {\n",
       "        text-align: right;\n",
       "    }\n",
       "</style>\n",
       "<table border=\"1\" class=\"dataframe\">\n",
       "  <thead>\n",
       "    <tr style=\"text-align: right;\">\n",
       "      <th></th>\n",
       "      <th>Rating</th>\n",
       "    </tr>\n",
       "  </thead>\n",
       "  <tbody>\n",
       "    <tr>\n",
       "      <th>count</th>\n",
       "      <td>20491.000000</td>\n",
       "    </tr>\n",
       "    <tr>\n",
       "      <th>mean</th>\n",
       "      <td>3.952223</td>\n",
       "    </tr>\n",
       "    <tr>\n",
       "      <th>std</th>\n",
       "      <td>1.233030</td>\n",
       "    </tr>\n",
       "    <tr>\n",
       "      <th>min</th>\n",
       "      <td>1.000000</td>\n",
       "    </tr>\n",
       "    <tr>\n",
       "      <th>25%</th>\n",
       "      <td>3.000000</td>\n",
       "    </tr>\n",
       "    <tr>\n",
       "      <th>50%</th>\n",
       "      <td>4.000000</td>\n",
       "    </tr>\n",
       "    <tr>\n",
       "      <th>75%</th>\n",
       "      <td>5.000000</td>\n",
       "    </tr>\n",
       "    <tr>\n",
       "      <th>max</th>\n",
       "      <td>5.000000</td>\n",
       "    </tr>\n",
       "  </tbody>\n",
       "</table>\n",
       "</div>"
      ],
      "text/plain": [
       "             Rating\n",
       "count  20491.000000\n",
       "mean       3.952223\n",
       "std        1.233030\n",
       "min        1.000000\n",
       "25%        3.000000\n",
       "50%        4.000000\n",
       "75%        5.000000\n",
       "max        5.000000"
      ]
     },
     "execution_count": 52,
     "metadata": {},
     "output_type": "execute_result"
    }
   ],
   "source": [
    "#Check the count, types of the data we have, and memory usage\n",
    "data.info()\n",
    "\n",
    "#Show the distribution of the ratings labels\n",
    "data.describe()"
   ]
  },
  {
   "cell_type": "code",
   "execution_count": 15,
   "id": "8fdb6c3d",
   "metadata": {},
   "outputs": [
    {
     "data": {
      "text/plain": [
       "Review    0\n",
       "Rating    0\n",
       "dtype: int64"
      ]
     },
     "execution_count": 15,
     "metadata": {},
     "output_type": "execute_result"
    }
   ],
   "source": [
    "# Check if there is any na values in data\n",
    "data.isna().sum()"
   ]
  },
  {
   "cell_type": "code",
   "execution_count": 18,
   "id": "49e59a2f",
   "metadata": {},
   "outputs": [],
   "source": [
    "#Split the reviews (data to evaluate) from the ratings (labels)\n",
    "X = data[\"Review\"]\n",
    "y = data[\"Rating\"]"
   ]
  },
  {
   "cell_type": "code",
   "execution_count": 36,
   "id": "24edc2e8",
   "metadata": {},
   "outputs": [],
   "source": [
    "#Split the data into a training and a test set; random_state=42 for consistency\n",
    "X_training, X_test, y_training, y_test = train_test_split(X, y, shuffle=True, test_size=0.30, random_state=42)\n",
    "\n",
    "#Split the training set into a dev and training set?\n",
    "#X_train, X_dev, y_train, y_dev = train_test_split(X_training, y_training, shuffle=True, test_size=0.25, random_state=24)"
   ]
  },
  {
   "cell_type": "code",
   "execution_count": 37,
   "id": "647d58a9",
   "metadata": {},
   "outputs": [
    {
     "name": "stdout",
     "output_type": "stream",
     "text": [
      "(14343,)\n",
      "(14343,)\n"
     ]
    }
   ],
   "source": [
    "#Print the shape of the training data we just split\n",
    "print(X_train.shape)\n",
    "print(y_train.shape)"
   ]
  },
  {
   "cell_type": "code",
   "execution_count": 38,
   "id": "8099e411",
   "metadata": {},
   "outputs": [],
   "source": [
    "def get_rating_dist(y_dist):\n",
    "    \"\"\"\n",
    "    :param y_dist: The star ratings, aka the labels for the desired dataset\n",
    "    :return: An array containing the distribution of the star ratings from 1-5 (index 0-4 respectively)\n",
    "    \n",
    "    This function takes in the vector of labels for a dataset and calculates the counts for the 5 different\n",
    "    star rating labels, returning that list of counts.\n",
    "    \"\"\"\n",
    "    rating_dist = [0, 0, 0, 0, 0]  #List of star rating counts\n",
    "    #For each label in y_dist, add a count to rating_dist for the designated rating\n",
    "    for y in y_dist:\n",
    "        rating_dist[y-1] += 1\n",
    "    return rating_dist  #Return the distribution"
   ]
  },
  {
   "cell_type": "code",
   "execution_count": 39,
   "id": "4c0fa338",
   "metadata": {},
   "outputs": [],
   "source": [
    "#Call get_rating_dist on the training set labels\n",
    "train_ratings = get_rating_dist(y_train)"
   ]
  },
  {
   "cell_type": "code",
   "execution_count": 40,
   "id": "04a479c1",
   "metadata": {},
   "outputs": [
    {
     "data": {
      "text/plain": [
       "Text(0, 0.5, 'Counts')"
      ]
     },
     "execution_count": 40,
     "metadata": {},
     "output_type": "execute_result"
    },
    {
     "data": {
      "image/png": "[encoded data removed]",
      "text/plain": [
       "<Figure size 1728x576 with 1 Axes>"
      ]
     },
     "metadata": {
      "needs_background": "light"
     },
     "output_type": "display_data"
    }
   ],
   "source": [
    "#Plot the distribution of star ratings in the training data\n",
    "fig = plt.figure(figsize=(24,8))\n",
    "ax = fig.add_axes([0,0,1,1])\n",
    "rating_labels = ['1', '2', '3', '4', '5']\n",
    "ax.bar(rating_labels, train_ratings)\n",
    "\n",
    "plt.title('Distribution of Ratings in Training Data', fontsize=18)\n",
    "plt.xlabel('Star Rating', fontsize=16)\n",
    "plt.ylabel('Counts', fontsize=16)"
   ]
  },
  {
   "cell_type": "code",
   "execution_count": 50,
   "id": "b48b3a1d",
   "metadata": {},
   "outputs": [],
   "source": [
    "#Output all of the reviews in the training set into a file to see what the reviews look like\n",
    "with open(\"train_reviews.txt\", 'w', encoding=\"utf-8\") as sentence_file:\n",
    "    for review in X_train:\n",
    "        sentence_file.write(review + '\\n')"
   ]
  },
  {
   "cell_type": "code",
   "execution_count": 48,
   "id": "54a0716c",
   "metadata": {},
   "outputs": [],
   "source": [
    "def avg_word_count(X_dist):\n",
    "    \"\"\"\n",
    "    :param X_dist: The array containing the reviews from the given dataset\n",
    "    :return: The average word count for all of the reviews in the given dataset\n",
    "    \n",
    "    This function takes in the array containing a set of reviews without the labels, calculates\n",
    "    the total number of words over all of the reviews, and returns the average word count per review.\n",
    "    \"\"\"\n",
    "    total_count = 0\n",
    "    for review in X_dist:\n",
    "        words_arr = review.split()\n",
    "        total_count += len(words_arr)\n",
    "    return (total_count/len(X_dist)) "
   ]
  },
  {
   "cell_type": "code",
   "execution_count": 49,
   "id": "b6989269",
   "metadata": {},
   "outputs": [
    {
     "name": "stdout",
     "output_type": "stream",
     "text": [
      "The average word count for the training data reviews is 104.4727044551349\n"
     ]
    }
   ],
   "source": [
    "print(\"The average word count for the training data reviews is\", avg_word_count(X_train))"
   ]
  }
 ],
 "metadata": {
  "kernelspec": {
   "display_name": "Python 3 (ipykernel)",
   "language": "python",
   "name": "python3"
  },
  "language_info": {
   "codemirror_mode": {
    "name": "ipython",
    "version": 3
   },
   "file_extension": ".py",
   "mimetype": "text/x-python",
   "name": "python",
   "nbconvert_exporter": "python",
   "pygments_lexer": "ipython3",
   "version": "3.9.7"
  }
 },
 "nbformat": 4,
 "nbformat_minor": 5
}
